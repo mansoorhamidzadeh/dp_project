{
 "cells": [
  {
   "cell_type": "code",
   "execution_count": 1,
   "metadata": {
    "collapsed": true,
    "ExecuteTime": {
     "end_time": "2023-07-20T06:12:59.269493800Z",
     "start_time": "2023-07-20T06:12:51.439420100Z"
    }
   },
   "outputs": [],
   "source": [
    "import tensorflow as tf\n",
    "import pandas as pd\n",
    "from sklearn.datasets import fetch_california_housing\n",
    "from tensorflow import keras\n",
    "from sklearn.model_selection import train_test_split\n",
    "from sklearn.preprocessing import StandardScaler"
   ]
  },
  {
   "cell_type": "code",
   "execution_count": 6,
   "outputs": [],
   "source": [
    "dataset=fetch_california_housing()"
   ],
   "metadata": {
    "collapsed": false,
    "ExecuteTime": {
     "end_time": "2023-07-20T06:46:51.257378Z",
     "start_time": "2023-07-20T06:46:51.226124900Z"
    }
   }
  },
  {
   "cell_type": "code",
   "execution_count": 7,
   "outputs": [
    {
     "data": {
      "text/plain": "dict_keys(['data', 'target', 'frame', 'target_names', 'feature_names', 'DESCR'])"
     },
     "execution_count": 7,
     "metadata": {},
     "output_type": "execute_result"
    }
   ],
   "source": [
    "dataset.keys()"
   ],
   "metadata": {
    "collapsed": false,
    "ExecuteTime": {
     "end_time": "2023-07-20T06:46:51.464910200Z",
     "start_time": "2023-07-20T06:46:51.433664100Z"
    }
   }
  },
  {
   "cell_type": "code",
   "execution_count": 8,
   "outputs": [
    {
     "data": {
      "text/plain": "(20640, 8)"
     },
     "execution_count": 8,
     "metadata": {},
     "output_type": "execute_result"
    }
   ],
   "source": [
    "dataset.data.shape"
   ],
   "metadata": {
    "collapsed": false,
    "ExecuteTime": {
     "end_time": "2023-07-20T06:46:52.447326Z",
     "start_time": "2023-07-20T06:46:52.402914900Z"
    }
   }
  },
  {
   "cell_type": "code",
   "execution_count": 10,
   "outputs": [
    {
     "data": {
      "text/plain": "['MedInc',\n 'HouseAge',\n 'AveRooms',\n 'AveBedrms',\n 'Population',\n 'AveOccup',\n 'Latitude',\n 'Longitude']"
     },
     "execution_count": 10,
     "metadata": {},
     "output_type": "execute_result"
    }
   ],
   "source": [
    "dataset.feature_names"
   ],
   "metadata": {
    "collapsed": false,
    "ExecuteTime": {
     "end_time": "2023-07-20T06:47:30.741689100Z",
     "start_time": "2023-07-20T06:47:30.710384400Z"
    }
   }
  },
  {
   "cell_type": "code",
   "execution_count": 17,
   "outputs": [],
   "source": [
    "x_train0,x_test,y_train0,y_test=train_test_split(dataset['data'],dataset['target'])"
   ],
   "metadata": {
    "collapsed": false,
    "ExecuteTime": {
     "end_time": "2023-07-20T06:52:39.331751700Z",
     "start_time": "2023-07-20T06:52:39.300467900Z"
    }
   }
  },
  {
   "cell_type": "code",
   "execution_count": 18,
   "outputs": [],
   "source": [
    "x_train1,x_validation,y_train1,y_validation=train_test_split(\n",
    "    x_train0,y_train0\n",
    ")"
   ],
   "metadata": {
    "collapsed": false,
    "ExecuteTime": {
     "end_time": "2023-07-20T06:52:39.591875200Z",
     "start_time": "2023-07-20T06:52:39.560572300Z"
    }
   }
  },
  {
   "cell_type": "code",
   "execution_count": 20,
   "outputs": [],
   "source": [
    "st=StandardScaler()"
   ],
   "metadata": {
    "collapsed": false,
    "ExecuteTime": {
     "end_time": "2023-07-20T06:53:18.042584100Z",
     "start_time": "2023-07-20T06:53:18.026959700Z"
    }
   }
  },
  {
   "cell_type": "code",
   "execution_count": 22,
   "outputs": [],
   "source": [
    "x_train_s=st.fit_transform(x_train1)"
   ],
   "metadata": {
    "collapsed": false,
    "ExecuteTime": {
     "end_time": "2023-07-20T06:53:25.205309800Z",
     "start_time": "2023-07-20T06:53:25.064694500Z"
    }
   }
  },
  {
   "cell_type": "code",
   "execution_count": 23,
   "outputs": [
    {
     "data": {
      "text/plain": "array([[ 0.33627779, -1.00334779,  0.32744057, ...,  0.06679652,\n        -1.27392305,  1.20924433],\n       [-0.71724423, -0.44657938, -0.20185051, ...,  0.25756884,\n        -0.94215503,  1.68313673],\n       [-0.24688189,  0.26926573, -0.85372377, ..., -0.05624043,\n        -0.84402645,  0.81017705],\n       ...,\n       [ 0.29319077,  0.42834242, -0.15958764, ..., -0.03634047,\n         1.09985381, -1.3597513 ],\n       [-1.02807517, -0.128426  , -0.25020322, ..., -0.07546085,\n         2.28674224, -1.81867868],\n       [ 1.57136968,  0.18972738,  0.416537  , ..., -0.04614037,\n        -0.58235027, -0.08772434]])"
     },
     "execution_count": 23,
     "metadata": {},
     "output_type": "execute_result"
    }
   ],
   "source": [
    "x_train_s"
   ],
   "metadata": {
    "collapsed": false,
    "ExecuteTime": {
     "end_time": "2023-07-20T06:53:29.153991800Z",
     "start_time": "2023-07-20T06:53:29.051558600Z"
    }
   }
  },
  {
   "cell_type": "code",
   "execution_count": 24,
   "outputs": [],
   "source": [
    "x_validation_s=st.fit_transform(x_validation)"
   ],
   "metadata": {
    "collapsed": false,
    "ExecuteTime": {
     "end_time": "2023-07-20T06:53:49.719957Z",
     "start_time": "2023-07-20T06:53:49.641820200Z"
    }
   }
  },
  {
   "cell_type": "code",
   "execution_count": 26,
   "outputs": [],
   "source": [
    "x_test_s=st.transform(x_test)"
   ],
   "metadata": {
    "collapsed": false,
    "ExecuteTime": {
     "end_time": "2023-07-20T06:54:25.885123800Z",
     "start_time": "2023-07-20T06:54:25.853875800Z"
    }
   }
  },
  {
   "cell_type": "code",
   "execution_count": 27,
   "outputs": [],
   "source": [
    "model=keras.models.Sequential([\n",
    "    keras.layers.Dense(50,activation='relu'),\n",
    "    keras.layers.Dense(10,activation='relu'),\n",
    "    keras.layers.Dense(1)\n",
    "])"
   ],
   "metadata": {
    "collapsed": false,
    "ExecuteTime": {
     "end_time": "2023-07-20T07:18:50.856547200Z",
     "start_time": "2023-07-20T07:18:50.762803600Z"
    }
   }
  },
  {
   "cell_type": "code",
   "execution_count": 28,
   "outputs": [
    {
     "ename": "ValueError",
     "evalue": "This model has not yet been built. Build the model first by calling `build()` or by calling the model on a batch of data.",
     "output_type": "error",
     "traceback": [
      "\u001B[1;31m---------------------------------------------------------------------------\u001B[0m",
      "\u001B[1;31mValueError\u001B[0m                                Traceback (most recent call last)",
      "Cell \u001B[1;32mIn[28], line 1\u001B[0m\n\u001B[1;32m----> 1\u001B[0m \u001B[43mmodel\u001B[49m\u001B[38;5;241;43m.\u001B[39;49m\u001B[43msummary\u001B[49m\u001B[43m(\u001B[49m\u001B[43m)\u001B[49m\n",
      "File \u001B[1;32mC:\\ProgramData\\anaconda3\\lib\\site-packages\\keras\\engine\\training.py:3214\u001B[0m, in \u001B[0;36mModel.summary\u001B[1;34m(self, line_length, positions, print_fn, expand_nested, show_trainable, layer_range)\u001B[0m\n\u001B[0;32m   3184\u001B[0m \u001B[38;5;124;03m\"\"\"Prints a string summary of the network.\u001B[39;00m\n\u001B[0;32m   3185\u001B[0m \n\u001B[0;32m   3186\u001B[0m \u001B[38;5;124;03mArgs:\u001B[39;00m\n\u001B[1;32m   (...)\u001B[0m\n\u001B[0;32m   3211\u001B[0m \u001B[38;5;124;03m    ValueError: if `summary()` is called before the model is built.\u001B[39;00m\n\u001B[0;32m   3212\u001B[0m \u001B[38;5;124;03m\"\"\"\u001B[39;00m\n\u001B[0;32m   3213\u001B[0m \u001B[38;5;28;01mif\u001B[39;00m \u001B[38;5;129;01mnot\u001B[39;00m \u001B[38;5;28mself\u001B[39m\u001B[38;5;241m.\u001B[39mbuilt:\n\u001B[1;32m-> 3214\u001B[0m     \u001B[38;5;28;01mraise\u001B[39;00m \u001B[38;5;167;01mValueError\u001B[39;00m(\n\u001B[0;32m   3215\u001B[0m         \u001B[38;5;124m\"\u001B[39m\u001B[38;5;124mThis model has not yet been built. \u001B[39m\u001B[38;5;124m\"\u001B[39m\n\u001B[0;32m   3216\u001B[0m         \u001B[38;5;124m\"\u001B[39m\u001B[38;5;124mBuild the model first by calling `build()` or by calling \u001B[39m\u001B[38;5;124m\"\u001B[39m\n\u001B[0;32m   3217\u001B[0m         \u001B[38;5;124m\"\u001B[39m\u001B[38;5;124mthe model on a batch of data.\u001B[39m\u001B[38;5;124m\"\u001B[39m\n\u001B[0;32m   3218\u001B[0m     )\n\u001B[0;32m   3219\u001B[0m layer_utils\u001B[38;5;241m.\u001B[39mprint_summary(\n\u001B[0;32m   3220\u001B[0m     \u001B[38;5;28mself\u001B[39m,\n\u001B[0;32m   3221\u001B[0m     line_length\u001B[38;5;241m=\u001B[39mline_length,\n\u001B[1;32m   (...)\u001B[0m\n\u001B[0;32m   3226\u001B[0m     layer_range\u001B[38;5;241m=\u001B[39mlayer_range,\n\u001B[0;32m   3227\u001B[0m )\n",
      "\u001B[1;31mValueError\u001B[0m: This model has not yet been built. Build the model first by calling `build()` or by calling the model on a batch of data."
     ]
    }
   ],
   "source": [
    "model.summary()"
   ],
   "metadata": {
    "collapsed": false,
    "ExecuteTime": {
     "end_time": "2023-07-20T07:18:57.898400900Z",
     "start_time": "2023-07-20T07:18:57.037662600Z"
    }
   }
  },
  {
   "cell_type": "code",
   "execution_count": 35,
   "outputs": [],
   "source": [
    "model.compile(loss=keras.losses.mean_squared_error,\n",
    "              optimizer='sgd',\n",
    "              metrics=keras.metrics.mean_squared_error)"
   ],
   "metadata": {
    "collapsed": false,
    "ExecuteTime": {
     "end_time": "2023-07-20T07:21:38.954780300Z",
     "start_time": "2023-07-20T07:21:38.907896300Z"
    }
   }
  },
  {
   "cell_type": "code",
   "execution_count": 36,
   "outputs": [
    {
     "name": "stdout",
     "output_type": "stream",
     "text": [
      "Epoch 1/5\n",
      "363/363 [==============================] - 2s 4ms/step - loss: 0.3294 - mean_squared_error: 0.3294 - val_loss: 0.3663 - val_mean_squared_error: 0.3663\n",
      "Epoch 2/5\n",
      "363/363 [==============================] - 1s 3ms/step - loss: 0.3267 - mean_squared_error: 0.3267 - val_loss: 0.3674 - val_mean_squared_error: 0.3674\n",
      "Epoch 3/5\n",
      "363/363 [==============================] - 1s 3ms/step - loss: 0.3242 - mean_squared_error: 0.3242 - val_loss: 0.3580 - val_mean_squared_error: 0.3580\n",
      "Epoch 4/5\n",
      "363/363 [==============================] - 1s 3ms/step - loss: 0.3223 - mean_squared_error: 0.3223 - val_loss: 0.3636 - val_mean_squared_error: 0.3636\n",
      "Epoch 5/5\n",
      "363/363 [==============================] - 1s 3ms/step - loss: 0.3199 - mean_squared_error: 0.3199 - val_loss: 0.3657 - val_mean_squared_error: 0.3657\n"
     ]
    },
    {
     "data": {
      "text/plain": "<keras.callbacks.History at 0x2a294b34f70>"
     },
     "execution_count": 36,
     "metadata": {},
     "output_type": "execute_result"
    }
   ],
   "source": [
    "model.fit(x_train_s,y_train1,epochs=5,validation_data=(x_validation_s,y_validation))"
   ],
   "metadata": {
    "collapsed": false,
    "ExecuteTime": {
     "end_time": "2023-07-20T07:21:46.236884200Z",
     "start_time": "2023-07-20T07:21:39.235998400Z"
    }
   }
  },
  {
   "cell_type": "code",
   "execution_count": 39,
   "outputs": [
    {
     "data": {
      "text/plain": "{'loss': [0.3293815851211548,\n  0.32665470242500305,\n  0.324179083108902,\n  0.3223487436771393,\n  0.31988611817359924],\n 'mean_squared_error': [0.3293815851211548,\n  0.32665470242500305,\n  0.324179083108902,\n  0.3223487436771393,\n  0.31988611817359924],\n 'val_loss': [0.366347998380661,\n  0.36735963821411133,\n  0.35799214243888855,\n  0.3636201322078705,\n  0.36572733521461487],\n 'val_mean_squared_error': [0.366347998380661,\n  0.36735963821411133,\n  0.35799214243888855,\n  0.3636201322078705,\n  0.36572733521461487]}"
     },
     "execution_count": 39,
     "metadata": {},
     "output_type": "execute_result"
    }
   ],
   "source": [
    "model.history.history"
   ],
   "metadata": {
    "collapsed": false,
    "ExecuteTime": {
     "end_time": "2023-07-20T07:22:14.767638600Z",
     "start_time": "2023-07-20T07:22:14.705087200Z"
    }
   }
  },
  {
   "cell_type": "code",
   "execution_count": 41,
   "outputs": [
    {
     "data": {
      "text/plain": "<matplotlib.legend.Legend at 0x2a295373700>"
     },
     "execution_count": 41,
     "metadata": {},
     "output_type": "execute_result"
    },
    {
     "data": {
      "text/plain": "<Figure size 1200x500 with 1 Axes>",
      "image/png": "[encoded data removed]"
     },
     "metadata": {},
     "output_type": "display_data"
    }
   ],
   "source": [
    "import matplotlib.pyplot as plt\n",
    "fig, ax = plt.subplots(figsize=(12, 5))\n",
    "ax.plot(model.history.history[\"loss\"], label=\"train loss\")\n",
    "ax.plot(model.history.history[\"mean_squared_error\"], label=\"train accuracy\")\n",
    "ax.plot(model.history.history[\"val_loss\"], label=\"validation loss\")\n",
    "ax.plot(model.history.history[\"val_mean_squared_error\"], label=\"validation accuracy\")\n",
    "ax.legend()"
   ],
   "metadata": {
    "collapsed": false,
    "ExecuteTime": {
     "end_time": "2023-07-20T07:24:14.734781700Z",
     "start_time": "2023-07-20T07:24:13.922797100Z"
    }
   }
  },
  {
   "cell_type": "code",
   "execution_count": null,
   "outputs": [],
   "source": [],
   "metadata": {
    "collapsed": false
   }
  }
 ],
 "metadata": {
  "kernelspec": {
   "display_name": "Python 3",
   "language": "python",
   "name": "python3"
  },
  "language_info": {
   "codemirror_mode": {
    "name": "ipython",
    "version": 2
   },
   "file_extension": ".py",
   "mimetype": "text/x-python",
   "name": "python",
   "nbconvert_exporter": "python",
   "pygments_lexer": "ipython2",
   "version": "2.7.6"
  }
 },
 "nbformat": 4,
 "nbformat_minor": 0
}
